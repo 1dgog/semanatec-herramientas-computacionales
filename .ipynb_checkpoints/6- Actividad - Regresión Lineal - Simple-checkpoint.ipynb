{
 "cells": [
  {
   "cell_type": "markdown",
   "metadata": {
    "id": "NAGZIGX35a8I"
   },
   "source": [
    "# Actividad\n",
    "\n",
    "- **Nombre**: \n",
    "- **Matrícula**: \n",
    "\n",
    "# Entregar \n",
    "Archivo PDF de la actividad y la liga de la actividad en su repostitorio.\n",
    "\n",
    "# Nota: \n",
    "Todas las tareas entregadas fuera de la fecha limite se califican sobre 50 de los 100 puntos posibles.\n"
   ]
  },
  {
   "cell_type": "markdown",
   "metadata": {
    "id": "aZ8qy6Ir5c8X"
   },
   "source": [
    "1. Carga los datos del archivo **presion.csv**"
   ]
  },
  {
   "cell_type": "code",
   "execution_count": null,
   "metadata": {
    "id": "ahNyt07-5ijr"
   },
   "outputs": [],
   "source": []
  },
  {
   "cell_type": "markdown",
   "metadata": {
    "id": "J8x9l3sd5jYI"
   },
   "source": [
    "2. Gráfica la información en el eje de las x la edad  y en el eje y la presión\n"
   ]
  },
  {
   "cell_type": "code",
   "execution_count": null,
   "metadata": {
    "id": "qCbTiXd45qr0"
   },
   "outputs": [],
   "source": []
  },
  {
   "cell_type": "markdown",
   "metadata": {
    "id": "Ha4fEpQ_5roa"
   },
   "source": [
    "3. Genera una regresión logistica para obtener una aproximación de la ecuación \n",
    "$$\n",
    "y = ax + b\n",
    "$$\n",
    "donde $ a $ se conoce comúnmente como * pendiente *, y $ b $ se conoce comúnmente como * intersección *.\n",
    "\n",
    "¿Cuál es el valor de a y cuál es el valor de b?"
   ]
  },
  {
   "cell_type": "code",
   "execution_count": null,
   "metadata": {
    "id": "BIcuqKya6zHY"
   },
   "outputs": [],
   "source": []
  },
  {
   "cell_type": "markdown",
   "metadata": {
    "id": "OGwecRAP6zSc"
   },
   "source": [
    "4. Gráfica los datos reales vs modelo obtenido. \n",
    "\n",
    "Se debe visualizar los datos reales ( azules) \n",
    "Recta del modelo ( negra) \n",
    "Distancias ( verde ) "
   ]
  },
  {
   "cell_type": "code",
   "execution_count": null,
   "metadata": {
    "id": "hhStTwBE64m_"
   },
   "outputs": [],
   "source": []
  },
  {
   "cell_type": "markdown",
   "metadata": {
    "id": "oZhvlIU57ECO"
   },
   "source": [
    "4. ¿Cuál es la presión arterial esperada para una persona de 76 años?\n",
    "\n",
    "Genera una función que calcule lo anterior"
   ]
  },
  {
   "cell_type": "code",
   "execution_count": null,
   "metadata": {
    "id": "AAorqUTv7LjX"
   },
   "outputs": [],
   "source": [
    "edad_calcular=\n",
    "\n",
    "def presion(edad)\n",
    "  return \n",
    "\n",
    "presion(edad_calcular)"
   ]
  }
 ],
 "metadata": {
  "colab": {
   "authorship_tag": "ABX9TyPZZge0oj7TtBSMr4l50hDl",
   "name": "6- Actividad - Regresión Lineal - Simple.ipynb",
   "provenance": []
  },
  "kernelspec": {
   "display_name": "Python 3",
   "language": "python",
   "name": "python3"
  },
  "language_info": {
   "codemirror_mode": {
    "name": "ipython",
    "version": 3
   },
   "file_extension": ".py",
   "mimetype": "text/x-python",
   "name": "python",
   "nbconvert_exporter": "python",
   "pygments_lexer": "ipython3",
   "version": "3.8.3"
  }
 },
 "nbformat": 4,
 "nbformat_minor": 1
}
