{
 "cells": [
  {
   "cell_type": "markdown",
   "id": "better-horse",
   "metadata": {},
   "source": [
    "# Segmentación de Clientes"
   ]
  },
  {
   "cell_type": "markdown",
   "id": "marine-loading",
   "metadata": {},
   "source": [
    "La segmentación clientes es una herramienta poderosa para poder identificar grupos con características particulares y necesidades por satisfacer. La manera más común para hacer una segmentación de clientes es con:\n",
    "\n",
    "* Información demográfica: edad, género, familia, estado civil, nivel de educación, ocupación, etc.\n",
    "* Información geográfica: dirección, ciudad, estado, código postal, etc.\n",
    "* Datos de comportamiento: hábitos de consumo, uso de productos/servicios, etc.\n",
    "\n",
    "Algunos de los beneficios de la segmentación de clientes son:\n",
    "- Ayuda para definir el precio adecuado de un producto/servicio.\n",
    "- Enfocan las campañas de marketing a clientes con potencial de compra.\n",
    "- mejor diseño de estrategias de distribución de productos.\n",
    "- Selección de características de un producto.\n",
    "\n",
    "## Caso de uso\n",
    "\n",
    "La siguiente tabla contiene datos simulados de clientes de un centro comercial, donde a través de una membresía se logró recolectar datos como edad, género, ingreso promedio anual. Además, con esta membresía se le asigna a cada cliente una calificación de acuerdo a sus hábitos de consumo.\n",
    "\n",
    "El reto es entender a los clientes actuales y definir objetivos para que el equipo de marketing construya sus estrategias de la mejor manera."
   ]
  },
  {
   "cell_type": "markdown",
   "id": "roman-enlargement",
   "metadata": {},
   "source": [
    "## Análisis exploratorio\n",
    "Lo primero que hay que hacer es cargar las librerías y los datos"
   ]
  },
  {
   "cell_type": "code",
   "execution_count": null,
   "id": "asian-amino",
   "metadata": {},
   "outputs": [],
   "source": [
    "# El archivo que contiene los datos está en la carpeta \"data\" y se llama \"Mall_Customers.csv\"\n",
    "# Escribe el código necesario para cargar los datos a python\n"
   ]
  },
  {
   "cell_type": "code",
   "execution_count": null,
   "id": "atlantic-helping",
   "metadata": {},
   "outputs": [],
   "source": [
    "# ¿Cuáles son las variables relevantes e irrelevantes para el análisis? \n"
   ]
  },
  {
   "cell_type": "markdown",
   "id": "conscious-probability",
   "metadata": {},
   "source": [
    "Haz un análisis estadístico de los datos antes de empezar con la segmentación. Debe contener al menos:\n",
    "   - 1 histograma\n",
    "   - 1 gráfica de barras\n",
    "   - 1 gráfico de caja (boxplot)\n",
    "   \n",
    "Describe brevemente las conclusiones que se pueden obtener con las gráficas."
   ]
  },
  {
   "cell_type": "markdown",
   "id": "metropolitan-balloon",
   "metadata": {},
   "source": [
    "**Opcional**: Puedes también agregar un mapa de calor (heat map). Para ello, es probable que se necesite cambiar algunas variables de numéricas a categóricas. \n",
    "\n",
    "La función `pd.cut(x, bins, labels)` precisamente hace este cambio (recordemos que la utilizamos para crear un histograma). En el parámetro `bins` acepta dos opciones:\n",
    "\n",
    "* Si escribimos un número `n`, separa la variable en intervalos iguales (como en un histograma).\n",
    "    \n",
    "* Si escribimos una **lista** de números, define intervalos que están delimitados por cada uno de los números.\n",
    "    - Por ejemplo, si mandamos [10,20,30] estamos creando *dos* categorías: `10<=x<20` y `20<=x<30`. Los valores que no estén en este intervalo **no** se clasifican.\n",
    "\n",
    "* El parámetro `labels` es para nombrar a las nuevas categorías definidas por los intervalos. Si `x` representa una variable de edad, un ejemplo sería\n",
    "\n",
    "```python\n",
    "pd.cut(x, bins=[0,12,20,150], labels=['niños', 'adolescentes', 'adultos'])\n",
    "```\n",
    "\n",
    "    ¿Qué otras categorías se pueden crear?"
   ]
  },
  {
   "cell_type": "code",
   "execution_count": null,
   "id": "appropriate-perfume",
   "metadata": {},
   "outputs": [],
   "source": [
    "# Crea gráficas y haz un análisis breve de lo que observas.\n"
   ]
  },
  {
   "cell_type": "markdown",
   "id": "bound-atmosphere",
   "metadata": {},
   "source": [
    "## Clústering \n",
    "\n",
    "Ya que hayas realizado un análisis preliminar, haz una segmentación utilizando el método de KMeans.\n",
    "Justifica el número de clusters que elegiste."
   ]
  },
  {
   "cell_type": "code",
   "execution_count": 1,
   "id": "thousand-residence",
   "metadata": {},
   "outputs": [],
   "source": [
    "# Implementa el algoritmo de kmeans y justifica la elección del número de clusters.\n",
    "# Usa las variables numéricas.\n"
   ]
  },
  {
   "cell_type": "markdown",
   "id": "becoming-fault",
   "metadata": {},
   "source": [
    "Analiza las características de cada grupo. ¿Qué nombre le pondrías a cada segmento?"
   ]
  },
  {
   "cell_type": "code",
   "execution_count": 2,
   "id": "nutritional-evaluation",
   "metadata": {},
   "outputs": [],
   "source": [
    "# Haz un análisis por grupo para determinar las características que los hace únicos. \n",
    "# Ten en cuenta todas las variables numéricas.\n"
   ]
  },
  {
   "cell_type": "code",
   "execution_count": null,
   "id": "annual-processor",
   "metadata": {},
   "outputs": [],
   "source": [
    "# Grafica los grupos con un pairplot y con un scatterplot en 3D. Analiza las características de cada grupo.\n"
   ]
  }
 ],
 "metadata": {
  "kernelspec": {
   "display_name": "Python [conda env:tensorflow]",
   "language": "python",
   "name": "conda-env-tensorflow-py"
  },
  "language_info": {
   "codemirror_mode": {
    "name": "ipython",
    "version": 3
   },
   "file_extension": ".py",
   "mimetype": "text/x-python",
   "name": "python",
   "nbconvert_exporter": "python",
   "pygments_lexer": "ipython3",
   "version": "3.8.5"
  }
 },
 "nbformat": 4,
 "nbformat_minor": 5
}
