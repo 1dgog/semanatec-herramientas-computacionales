{
 "cells": [
  {
   "cell_type": "markdown",
   "metadata": {
    "id": "pH-dn4bl2eUy"
   },
   "source": [
    "# Introducción a Colaboratory\n",
    "\n",
    "**Google Colaboratory** es un entorno de máquinas virtuales basado en *Jupyter Notebooks*.\n",
    "\n",
    "Se pueden correr en la nube, es decir, no necesitamos instalar ningún software específico en nuestra computadora para empezar a utilizarlo: basta con tener un navegador web.\n",
    "\n",
    "Es posible elegir correr nuestro notebook en una CPU, GPU o en una TPU de forma gratuita.\n",
    "\n",
    "El ambiente de trabajo ya viene con muchas librerías instaladas listas para utilizar, como por ejemplo Numpy, Pandas, Matplotlib y Tensorflow. Además, es posible cargar librerías que no vengan intaladas por defecto. \n",
    "\n",
    "Sin embargo, hay algunas restricciones que hay que comar en cuenta, como por ejemplo:\n",
    "\n",
    "* La sesión dura 12 horas, pasado ese tiempo se limpia nuestro ambiente y perdemos las variables y archivos que tengamos almacenados allí.\n",
    "\n",
    "* Los recursos que utilizamos (CPU, memoria RAM) son compartidos. Están sujetos a la disponibilidad.\n"
   ]
  },
  {
   "cell_type": "markdown",
   "metadata": {
    "id": "-a-4nNMW4GWK"
   },
   "source": [
    "# Tipos de celdas\n",
    "Igual que en Jupyter Notebook, en Colaboratory disponemos de celdas de código y celdas markdown (o de texto) que pueden ir intercaladas entre sí.\n",
    "\n",
    "Para insertar celdas, si colocamos el cursor entre medio de dos celdas nos aparece la opción de agregar celdas de texto o código como se ve en la siguiente imagen. \n",
    "\n",
    "También podemos hacerlo desde el menú Insertar, o desde los botones de más código y texto en la barra superior."
   ]
  },
  {
   "cell_type": "markdown",
   "metadata": {
    "id": "39lKdXpM699z"
   },
   "source": [
    "## Ejemplo: Las celdas de texto pueden llevar encabezados\n",
    "### hay diferentes niveles para incluir subtítulos.\n",
    "\n",
    "Ésta es una celda de **texto**. Podemos dar cierto formato como texto en **negritas** o en *curvisa*.\n",
    "\n",
    "Podemos insertar hipervículos a [páginas web](mitec21.tec.mx) o imágenes como la siguiente:\n",
    "\n",
    "\n",
    "\n",
    "\n",
    "---\n",
    "\n",
    "\n",
    "\n",
    "*   Las listas pueden ser con *bullets*.\n",
    "2.  o también con números.\n",
    "\n",
    "\n",
    "\n",
    "\n",
    "\n"
   ]
  },
  {
   "cell_type": "markdown",
   "metadata": {
    "id": "SBqE4ebX8nJk"
   },
   "source": [
    "## Ejemplo de celda de código"
   ]
  },
  {
   "cell_type": "code",
   "execution_count": null,
   "metadata": {
    "colab": {
     "base_uri": "https://localhost:8080/"
    },
    "executionInfo": {
     "elapsed": 1326,
     "status": "ok",
     "timestamp": 1613413620273,
     "user": {
      "displayName": "José Ignacio Treviño Zapata",
      "photoUrl": "https://lh3.googleusercontent.com/a-/AOh14GjiBemWraFsVYffB0dNbNoaUfXTy7yTfNPygf-E1Q=s64",
      "userId": "17919451176962634983"
     },
     "user_tz": 360
    },
    "id": "RgoYiFl42YFK",
    "outputId": "eac409cd-2c13-4d05-d65f-7d139b8609cf"
   },
   "outputs": [
    {
     "name": "stdout",
     "output_type": "stream",
     "text": [
      "Python 3.6.9\n"
     ]
    }
   ],
   "source": [
    "# Esta es una celda de código. Aquí se van a ejecutar los comandos.\n",
    "# Podemos agregar también comentarios utilizando el caracter de numeral #\n",
    "! python -V"
   ]
  },
  {
   "cell_type": "markdown",
   "metadata": {
    "id": "nIF29saP9XIq"
   },
   "source": [
    "## Celdas temporales\n",
    "\n",
    "Una funcionalidad interesante de las Colab es la posibilidad de agregar una **celda de código temporal**. \n",
    "\n",
    "Podemos insertarlas desde el menú *Insertar*. Se despliegan como una ventana auxiliar en el navegador como se ve en la siguiente imagen.\n",
    "\n",
    "![scratch code.PNG](data:image/png;base64,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)\n",
    "\n",
    "Resulta muy útil para realizar pruebas rápidas **sin agregar** celdas extra en nuestro notebook.\n",
    "\n",
    "También nos sirven cuando queremos hacer *pruebas de validación* sobre nuestro código."
   ]
  },
  {
   "cell_type": "markdown",
   "metadata": {
    "id": "URXLpeSbByMV"
   },
   "source": [
    "# Importar datos\n",
    "¿Cómo utilizar datasets en Colab? La manera más ordenada de hacerlo es importando los archivos desde **Google Drive** y manejarlo como un sistema de archivos *on premise* (o fuera de la nube).\n",
    "\n",
    "\n",
    "En Colab tenemos disponibles **fragmentos de código** que resuelven esta integración con Drive. Para utilizarlos vamos al menú *Insertar* $\\rightarrow$*Fragmentos de código (Code snippets)*"
   ]
  },
  {
   "cell_type": "code",
   "execution_count": null,
   "metadata": {
    "colab": {
     "base_uri": "https://localhost:8080/"
    },
    "executionInfo": {
     "elapsed": 21948,
     "status": "ok",
     "timestamp": 1613423077930,
     "user": {
      "displayName": "José Ignacio Treviño Zapata",
      "photoUrl": "https://lh3.googleusercontent.com/a-/AOh14GjiBemWraFsVYffB0dNbNoaUfXTy7yTfNPygf-E1Q=s64",
      "userId": "17919451176962634983"
     },
     "user_tz": 360
    },
    "id": "uDFHRqdARUQ3",
    "outputId": "e84862af-88d6-4dfb-81b5-ba002e708aa1"
   },
   "outputs": [
    {
     "name": "stdout",
     "output_type": "stream",
     "text": [
      "Mounted at /content/drive/\n"
     ]
    }
   ],
   "source": [
    "from google.colab import drive\n",
    "drive.mount('/content/drive/')"
   ]
  },
  {
   "cell_type": "markdown",
   "metadata": {
    "id": "MQchPUSZh_a9"
   },
   "source": [
    "Al ejecutar el código anterior, Colaboratory nos mostrará una liga que debemos abrir para obtener un código de ejecución. Lo copiamos y pegamos en el recuadro que aparece.\n",
    "\n",
    "Esto nos permitirá tener acceso a las carpetas y archivos que tengamos almacenados en nuestra cuenta personal de **Google Drive**\n",
    "\n",
    "Para crear y manejar archivos directamente desde Colaboratory podemos utilizar los comandos de **Unix**."
   ]
  },
  {
   "cell_type": "markdown",
   "metadata": {
    "id": "BfyvMgBnptzH"
   },
   "source": [
    "# Introducción a Unix\n",
    "\n",
    "Unix es un sistema operativo de código abierto multitarea y multiusuario. Esto significa que cualquiera tiene acceso al código fuente del sistema operativo y puede modificarlo y distribuirlo (bajo ciertas condiciones). \n",
    "\n",
    "Hay muchas distribuciones basadas en Unix. Dos de las más populares son Mac OS y Linux. Colaboratory puede ejecutar una consola de Unix, con la cuál podremos crear y manejar nuestros archivos de Google Drive. \n",
    "\n",
    "## Comandos básicos de Unix\n",
    "\n",
    "Los **comandos** son pequeños programas que nos permiten ejecutar tareas básicas en nuestro ambiente.\n",
    "\n",
    "En Colaboratory, podemos ejecutar los comandos de Unix con la ayuda de los operadores  `%` y `!`"
   ]
  },
  {
   "cell_type": "markdown",
   "metadata": {
    "id": "G8dnNo5LrHPb"
   },
   "source": [
    "### Navegación\n",
    "\n",
    "Estos son los 3 principales comandos referentes a la navegación de archivos:\n",
    "\n",
    "* `pwd` - Significa `print working directory`; escribe la dirección completa del directorio activo de trabajo. \n",
    "\n",
    "* `cd` - Se refiere a `change directory`; permite navegar y cambiarnos entre diferentes directorios.\n",
    "\n",
    "\n",
    "* `ls` - Abreviación para `list`; enlista todos los archivos dentro del directorio activo.\n",
    "\n",
    "---\n",
    "\n",
    "\n",
    "Veamos a detalle cada comando.\n",
    "\n",
    "#### (1) pwd\n",
    "Los archivos en un sistema operativo Unos están organizados en una estructura **tipo árbol**.\n",
    "\n",
    "El directorio más alto en el sistema de archivos se le conoce como *directorio raíz o root*. Esta carpeta contiene todos los archivos y subcarpeta del sistema. \n",
    "\n",
    "<img src=\"images/unix-tree.png\" width=\"480\" align=\"center\"/>\n",
    "\n",
    "Es importante considerar si la ruta del directorio activo se representa como absoluta o relativa.\n",
    "\n",
    "* Una **dirección absoluta** empieza con el directorio raíz y sigue al sistema de archivo rama tras rama. Este tipo de ruta siempre empiezan con el símbolo de la carpeta raíz `/`.\n",
    "\n",
    "* Una ruta o **dirección relativa** empieza con el directorio activo y sigue las ramas a partir de esta caperta. No empiezan con el caracter `/`.  \n",
    "\n",
    "Muchas veces es indistinto el uso de una u otra, aunque hay programas que esperan siempre una **dirección absoluta** para poder ejecutarse.\n",
    "\n",
    "#### (2) `cd` \n",
    "\n",
    "`cd` acepta direcciones tanto absolutas como relativas. Cuando pasemos una dirección relativa, debemos asegurarnos que el directorio destino esté dentro de nuestra carpeta actual de trabajo.\n",
    "\n",
    "\n",
    "```bash\n",
    "cd galvanize/DSI-evening-prep # To use the cd command in this way,\n",
    "                              # /Users/sallamander must be my current\n",
    "                              # directory.\n",
    "cd /Users/sallamander/galvanize/DSI-evening-prep # This will work from\n",
    "                                                 # any current directory.\n",
    "```\n",
    "\n",
    "Existen atajos especiales utilizando `cd` para cambiarnos rápidamente entre directorios: \n",
    "\n",
    "```bash\n",
    "cd ~ # Nos reubica al directorio raíz.\n",
    "cd  # Otra manera para ir al directorio raíz. \n",
    "cd .. # Nos mueve al directorio inmediato superior.\n",
    "```\n",
    "\n",
    "\n",
    "####(3) `ls` \n",
    "\n",
    "`ls` nos permite enlistar los archivos dentro del directorio activo o bien los archivos de cualquier directorio que coloquemos después de la instrucción. \n",
    "\n",
    "```bash\n",
    "ls # Lista todos los archivos y carpetas dentro del directorio activo.\n",
    "ls git # Muestra todos los archivos dentro de la carpeta git\n",
    "```\n"
   ]
  },
  {
   "cell_type": "markdown",
   "metadata": {
    "id": "SXBG7GNqD8RP"
   },
   "source": [
    "### Crear y remover directorios\n",
    "\n",
    "* `mkdir` - Crear un directorio o carpeta.\n",
    "* `rmdir` - Elimina una carpeta. Tiene que estar vacía antes de poder eliminarla.\n",
    "\n",
    "1.) `mkdir` Crea un directorio con el nombre que coloquemos después del comando mkdir.\n",
    "\n",
    "```bash\n",
    "mkdir Carpeta1 # Crea un nuevo directorio llamado Carpeta1\n",
    "```\n",
    "\n",
    "2.) `rmdir` elimina una carpeta  con el nombre que nosotro especifiquemos. La carpeta tiene que estar **vacía**:\n",
    "\n",
    "```bash\n",
    "rmdir Carpeta1 # Elimina la carpeta llamda Carpeta1\n",
    "```\n",
    "Si una carpeta no está vacía y aún así estamos seguros de querer eliminarla, podemos utilizar la opción *recursive* del comando.\n",
    "\n",
    "```bash\n",
    "rm -r CarpetaNoVacia # Recursively deletes all files in the nonempty_dir,\n",
    "                   # and then deletes the nonempty_dir itself.\n",
    "```"
   ]
  },
  {
   "cell_type": "markdown",
   "metadata": {
    "id": "4k4qDcvlD8JN"
   },
   "source": [
    "### Crear y eliminar archivos\n",
    "\n",
    "Similar al caso de los directorios, tenemos dos comandos:\n",
    "\n",
    "* `touch` - Crea un archivo o modifica uno ya existente.\n",
    "* `rm` - Elimina permanentemente un archivo.\n",
    "\n",
    "1.) Por defecto, `touch` abre y cierra un archivo sin modificar su contenido. Si el archivo no existe, entonces el comando lo crea.\n",
    "\n",
    "\n",
    "```bash\n",
    "touch already_existent.txt # Actualiza la fecha de modificación de un archivo.\n",
    "\n",
    "touch new_file1.txt # Crea un nuevo archivo si no existe.\n",
    "```\n",
    "\n",
    "2.) `rm` borra el archivo que le especifiquemos por nombre.\n",
    "\n",
    "```bash\n",
    "rm file1.txt # Borra el archivo file1\n",
    "rm file2.txt file3.txt # Puede borrarse más de un archivo a la vez.\n",
    "```\n",
    "\n",
    "**Nota**: La eliminación de los archivos es **permanente**."
   ]
  },
  {
   "cell_type": "markdown",
   "metadata": {
    "id": "S_CHA7wupIF-"
   },
   "source": [
    "### Mover y copiar archivos/directorios\n",
    "\n",
    "* `cp` - copia archivos o directorios.\n",
    "* `mv` - para mover y/o renombrar archivos o directorios.\n",
    "\n",
    "1.) `cp` toma dos argumentos - el primero es la ruta y el nombre del archivo a copiar,  el segundo es la ruta y nombre del archivo destino. \n",
    "\n",
    "Si queremos copiar un directorio, tenemos que agregar la opción  `-r`\n",
    "para hacer la operación recursiva.\n",
    "\n",
    "```bash\n",
    "cp file1.txt file2.txt # Copia el archivo 1 al archivo 2.\n",
    "cp file1.txt directory1 # Copia el archivo1 al directorio objetivo y se conserva el nombre original del archivo.\n",
    "cp file1.txt directory1/file11.txt # Copia el archivo a un directorio específico y lo renombra.\n",
    "cp -r dir1 dir2 # Copia los contenidos de dir1 a dir2  \n",
    "```\n",
    "\n",
    "2.) `mv` toma dos argumentos, similar al caso de `cp`. Este comando mueve un archivo a otro directorio y lo renombra.\n",
    "\n",
    "```bash\n",
    "mv file1.txt file2.txt # Mueve los contenidos de archivo1 a archivo2 y borra archivo1. En esencia, es renombrar el archivo1.\n",
    "```\n",
    "\n",
    "**Nota**: `mv` sobre-escriboe los archivos si ya existen dentro del directorio destino."
   ]
  },
  {
   "cell_type": "markdown",
   "metadata": {
    "id": "5tvAv-N_0qKS"
   },
   "source": []
  },
  {
   "cell_type": "markdown",
   "metadata": {
    "id": "y741HpzjFnEZ"
   },
   "source": [
    "Para cargar archivos locales utilizamos el siguiente código. \n",
    "\n",
    "Nos mostrará un botón para seleccionar el archivo y cargarlo.\n",
    "\n",
    "```\n",
    "from google.colab import files\n",
    "## Con esta instrucción podemos cargar archivos locales a Colaboratory\n",
    "uploaded = files.upload()\n",
    "```\n",
    "\n"
   ]
  },
  {
   "cell_type": "code",
   "execution_count": null,
   "metadata": {
    "colab": {
     "base_uri": "https://localhost:8080/"
    },
    "executionInfo": {
     "elapsed": 455,
     "status": "ok",
     "timestamp": 1612223458473,
     "user": {
      "displayName": "José Ignacio Treviño Zapata",
      "photoUrl": "https://lh3.googleusercontent.com/a-/AOh14GjiBemWraFsVYffB0dNbNoaUfXTy7yTfNPygf-E1Q=s64",
      "userId": "17919451176962634983"
     },
     "user_tz": 360
    },
    "id": "v6QaY0sWVDxz",
    "outputId": "8d0370f5-2b60-40d8-ba73-9498867b66ef"
   },
   "outputs": [
    {
     "name": "stdout",
     "output_type": "stream",
     "text": [
      "/content/drive/MyDrive/Colab Notebooks/Tec\n"
     ]
    }
   ],
   "source": [
    "%cd 'drive/MyDrive/Colab Notebooks/Tec/'"
   ]
  },
  {
   "cell_type": "code",
   "execution_count": null,
   "metadata": {
    "id": "3S1rix8WWUty"
   },
   "outputs": [],
   "source": [
    "%mkdir 'git'"
   ]
  },
  {
   "cell_type": "code",
   "execution_count": null,
   "metadata": {
    "colab": {
     "base_uri": "https://localhost:8080/"
    },
    "executionInfo": {
     "elapsed": 432,
     "status": "ok",
     "timestamp": 1612223537061,
     "user": {
      "displayName": "José Ignacio Treviño Zapata",
      "photoUrl": "https://lh3.googleusercontent.com/a-/AOh14GjiBemWraFsVYffB0dNbNoaUfXTy7yTfNPygf-E1Q=s64",
      "userId": "17919451176962634983"
     },
     "user_tz": 360
    },
    "id": "QuBs_ZT4XmHw",
    "outputId": "21e6d2ee-cf6a-4645-c8de-ed7a3f6266b8"
   },
   "outputs": [
    {
     "name": "stdout",
     "output_type": "stream",
     "text": [
      "'Básicos de Unix y GIT.ipynb'   \u001b[0m\u001b[01;34mgit\u001b[0m/\n"
     ]
    }
   ],
   "source": [
    "%ls"
   ]
  },
  {
   "cell_type": "code",
   "execution_count": null,
   "metadata": {
    "colab": {
     "base_uri": "https://localhost:8080/"
    },
    "executionInfo": {
     "elapsed": 425,
     "status": "ok",
     "timestamp": 1612223474591,
     "user": {
      "displayName": "José Ignacio Treviño Zapata",
      "photoUrl": "https://lh3.googleusercontent.com/a-/AOh14GjiBemWraFsVYffB0dNbNoaUfXTy7yTfNPygf-E1Q=s64",
      "userId": "17919451176962634983"
     },
     "user_tz": 360
    },
    "id": "okHqtW-DXneA",
    "outputId": "84627ab0-ff04-4912-9077-a2a4f4aab78e"
   },
   "outputs": [
    {
     "name": "stdout",
     "output_type": "stream",
     "text": [
      "rmdir: failed to remove 'git': Directory not empty\n"
     ]
    }
   ],
   "source": [
    "%rmdir 'git'"
   ]
  },
  {
   "cell_type": "code",
   "execution_count": null,
   "metadata": {
    "colab": {
     "base_uri": "https://localhost:8080/"
    },
    "executionInfo": {
     "elapsed": 587,
     "status": "ok",
     "timestamp": 1612223937174,
     "user": {
      "displayName": "José Ignacio Treviño Zapata",
      "photoUrl": "https://lh3.googleusercontent.com/a-/AOh14GjiBemWraFsVYffB0dNbNoaUfXTy7yTfNPygf-E1Q=s64",
      "userId": "17919451176962634983"
     },
     "user_tz": 360
    },
    "id": "akJ4msptXqY1",
    "outputId": "f7e4da60-9f9a-467c-fdff-f06a7b162845"
   },
   "outputs": [
    {
     "name": "stdout",
     "output_type": "stream",
     "text": [
      "'Básicos de Unix y GIT.ipynb'   credenciales.json   \u001b[0m\u001b[01;34mgit\u001b[0m/\n"
     ]
    }
   ],
   "source": [
    "%ls"
   ]
  },
  {
   "cell_type": "markdown",
   "metadata": {
    "id": "9kNys1rk2E0V"
   },
   "source": [
    "# Github\n",
    "\n",
    "[GitHub](https://github.com) es una plataforma de desarrollo colaborativo para alojar proyectos utilizando el sistema de control de versiones Git. Git permite llevar un seguimiento de todas las diferentes versiones de archivos de un proyecto. En cualquier momento podemos recuperar las versiones anteriores de un archivo en caso de algún cambio no haya resultado como se esperaba.\n",
    "\n",
    "<img src='images/github/githubini.png' width=\"480\" align=\"center\">\n",
    "\n",
    "Github permite compartir nuestros proyectos con otros y a su vez que ellos hagan aportaciones al proyecto. Las interacciones en Git las hacemos desde nuestra computadora local (o desde Colaboratory) mientras que para Github utilizaremos un navegador Web.\n",
    "\n",
    "## Crear un token para accesar desde Google Colaboratory\n",
    "\n",
    "Para crear un token debemos ir a configuración y a configuración de desarrolladores.\n",
    "\n",
    "1. De la página inicial, copiar el nombre de usuario e ir al ícono del perfil:\n",
    "<img src=\"images/github/01_principal.png\" width=\"480\" align=\"center\"/>\n",
    "\n",
    "2. Seleccionar la opción de configuración:\n",
    "<img src=\"images/github/02_settings.png\" width=\"480\" align=\"center\"/>\n",
    "\n",
    "\n",
    "3. Ir al panel izquierdo y dar click en configuración de desarrollador.\n",
    "<img src=\"images/github/03_devsettings.png\" width=\"480\" align=\"center\"/>\n",
    "\n",
    "4. Seleccionar la opción de tokens personales en el panel izquierdo. Después, dar click en Generar Token Nuevo.\n",
    "<img src=\"images/github/04_tokens.png\" width=\"480\" align=\"center\"/>\n",
    "\n",
    "5. Dar un nombre adecuado al token que se va a generar. Seleccionar la opción de \"Repo\" para permitir las operaciones de push, pull, branch, etc.\n",
    "<img src=\"images/github/05_createtoken.png\" width=\"480\" align=\"center\"/>\n",
    "\n",
    "6. Una vez generado el token, cópialo y guardalo. No podrás volver a verlo. El token **es personal** y no se recomienda compartirlo con nadie.\n",
    "<img src=\"images/github/06_tokengenerated.png\" width=\"480\" align=\"center\"/>\n",
    "\n",
    "\n",
    "\n",
    "\n"
   ]
  },
  {
   "cell_type": "markdown",
   "metadata": {
    "id": "N8Q43aHTS0IP"
   },
   "source": [
    "## Inicializar un repositorio Git\n",
    "\n",
    "Un repositorio es una **colección local** de archivos que contiene un subdirectorio `.git`. Git lleva registro del estdo de los archivos dentro del repositorio en disco, siempre y cuando estos archivos estén agregados al *índice*. Hay dos maneras comunes de cómo crear un nuevo repositorio:\n",
    "\n",
    "* Inicializar un repositorio local nuevo.\n",
    "* Descargar o *clonar* un repositorio existente.\n",
    "\n",
    "Para crear un repositorio nuevo desde cero utilizaremos la línea de comando: \n",
    "\n",
    "```bash \n",
    "git init my_new_repo # Initialize a new git repository called my_new_repo. \n",
    "git init # Initialize the current directory to be a git repository. \n",
    "```\n",
    "\n"
   ]
  },
  {
   "cell_type": "markdown",
   "metadata": {
    "id": "iX_36wgGjrCL"
   },
   "source": [
    "### Interactuando con un repositorio nuevo de Git\n",
    "\n",
    "Ya que creamos nuestro repositorio, podemos empezar a trabajar en el directorio y que Git lleve registro de los cambios que hacemos en los archivos. \n",
    "\n",
    "El procedimiento estándar es el siguiente:\n",
    "* Hacer cambios en uno o más archivos denetro del repositorio.\n",
    "* Revisar los cambios.\n",
    "* Agregar los archivos al índice, un archivo especial que Git utiliza como registro.\n",
    "* Hacer una remisión (*commit*) de los cambios con una descripción de los mismos.\n",
    "\n",
    "Para utilizar Git vamos a hacer uso de la línea de comandos:\n",
    "\n",
    "```bash\n",
    "git status  # Da un resumen del estado del repositorio:\n",
    "            # archivos modificados, agredamos, borrados, etc.\n",
    "git add my_file.txt # Agrega el archivo1 al área de desarrollo.\n",
    "git add my_folder/ # Agrega una carpeta y todos sus contenidos al área de desarrollo.\n",
    "git add .  # Agrega todos los archivos del repositorio al área de desarrollo.\n",
    "git commit -m 'Mi primer commit' # Remite todos los cambios agregados al área de desarrollo y guarda un comentario sobre la actualización\n",
    "```\n",
    "\n",
    "El archivo *índice*  se encuentra dentro de una carpeta escondida llamada `.git`. El comando `git add` agrega los archivos al índice, lo que permite a git ir registrando los cambios que se realizan sobre los archivos. Este comando lo que hace es recordar el estado en el que se encuentren los archivos al momento de ejecutarlo.\n",
    "\n",
    "Si utilizamos `git add` sobre un archivo ya registrado en el índice pero que no ha tenido cambios desde entonces, git ejecuta nada porque no hay modificaciones que registrar.\n",
    "\n",
    "\n",
    "El comando `git commit` lo podemos visualizar como hacer que los cambios sean \"oficiales\". Durante este paso agregamos un mensaje que nos ayude a identificar de manera general cuáles fueron los cambios que se realizaron."
   ]
  },
  {
   "cell_type": "markdown",
   "metadata": {
    "id": "_7Bjame89r19"
   },
   "source": [
    "## Trabajando con Github\n",
    "\n",
    "La segunda forma de inicializar un repositorio de Git es descargando un proyecto ya existente. Es aquí donde Github entra en acción. \n",
    "\n",
    "\n",
    "\n",
    "\n",
    "### Inicializar un repositorio por clonación\n",
    "\n",
    "El proceso de copiar un repositorio desde Github lo conocemos como *cloning* o clonación. Para clonar un repositorio utilizamos el siguiente comando:\n",
    "\n",
    "```bash \n",
    "git clone URL # This will copy (clone) an existing repository from the given\n",
    "              # URL, giving it the same name as the existing repository. Often\n",
    "              # times this will be a URL that you grabbed from somebody's repo\n",
    "              # on Github. \n",
    "```\n",
    "\n",
    "Este comando lo podemos utilizar con URLs de **repositorios públicos**, es decir, aquellos a los que cualquier persona tiene acceso. Existen repositorios que son **privados** y que requieren de un proceso de *autenticación* para poder acceder a su contenido.\n",
    "\n",
    "Si bien existen otras plataformas de Git en la nube, Github es la más popular. Otras alternativas que podemos utilizar son Gitlab y Bitbucket. Dada la popularidad, es muy problame que los repositorios que clonemos serán desde Github.\n",
    "\n",
    "Github nos ofrece la opción de generar el comando con el cual clonamos el repositorio:\n",
    "\n",
    "\n",
    "\n",
    "Cuando clonamos un repositorio, estamos copiando el contenido en nuestro ambiente local (o en Google Drive). Cualquier cambio que hagamos sobre el repositorio clonado permanecerá sólo en nuestra computadora a menos que le especifiquemos a Git que queremos subir los cambios. Lo mismo pasa con los cambios del repositorio remoto.\n",
    "\n",
    "Para manejar los cambios entre el repositorio remoto y el local, utilizaremos dos funciones de Git: `git pull` y  `git push`:\n",
    "\n",
    "```bash \n",
    "git push # Remite los cambios hechos en el repositorio local hacia el remoto. \n",
    "git pull # Copia los cambios hechos en el repositorio remoto hacia el repositorio local.\n",
    "```\n",
    "\n",
    "**Nota**: Para poder subir los cambios al reporitorio remoto, debemos contar con los **permisos** para conectarnos a la cuenta de Github u otra plataforma Git."
   ]
  },
  {
   "cell_type": "markdown",
   "metadata": {
    "id": "PRhEVUYJrqeh"
   },
   "source": [
    "# Forking\n",
    "\n",
    "*Forking* es similar a clonar un repositorio. Copia un repositorio público a nuestra cuenta de Github. Esto lo hacemos cuando no tenemos permisos de modificación sobre el repositorio original.  El forking lo hacemos directamente desde Github.\n",
    "\n",
    "\n"
   ]
  },
  {
   "cell_type": "markdown",
   "metadata": {
    "id": "6miUhHPBF9ZF"
   },
   "source": [
    "## Conectando Github con Colaboratory.\n",
    "\n",
    "Podemos clonar libremente los repositorios que sean públicos, pero si queremos que los cambios se reflejen en el repositorio remoto, debemos contar con permisos suficientes. Primero, hay que crear una cuenta de Github y obtener un **token**.\n",
    "\n",
    "En la página principal, hacemos clic en nuestro perfil:\n",
    "\n",
    "<img src=\"images/github/colab-github.png\" width=\"480\" align=\"center\"/>"
   ]
  },
  {
   "cell_type": "code",
   "execution_count": null,
   "metadata": {},
   "outputs": [],
   "source": []
  },
  {
   "cell_type": "code",
   "execution_count": null,
   "metadata": {
    "colab": {
     "base_uri": "https://localhost:8080/"
    },
    "executionInfo": {
     "elapsed": 6745,
     "status": "ok",
     "timestamp": 1612224579751,
     "user": {
      "displayName": "José Ignacio Treviño Zapata",
      "photoUrl": "https://lh3.googleusercontent.com/a-/AOh14GjiBemWraFsVYffB0dNbNoaUfXTy7yTfNPygf-E1Q=s64",
      "userId": "17919451176962634983"
     },
     "user_tz": 360
    },
    "id": "MQG1ZjEWCOa1",
    "outputId": "9d987c44-1499-451b-f726-838dfb993643"
   },
   "outputs": [
    {
     "name": "stdout",
     "output_type": "stream",
     "text": [
      "user: joseigtrz\n",
      "token: a8479b4619f65e6643c4a4ff39353bea619908e2\n"
     ]
    }
   ],
   "source": [
    "import json\n",
    "\n",
    "# read file\n",
    "with open('credenciales.json', 'r') as myfile:\n",
    "    data = myfile.read()\n",
    "\n",
    "# parse file\n",
    "obj = json.loads(data)\n",
    "\n",
    "# show values\n",
    "print(\"user: \" + str(obj['user']))\n",
    "print(\"token: \" + str(obj['token']))\n",
    "\n",
    "# replace with your Github username \n",
    "GIT_USERNAME = obj['user']\n",
    "\n",
    "# definitely replace with your\n",
    "GIT_TOKEN = obj['token']"
   ]
  },
  {
   "cell_type": "code",
   "execution_count": null,
   "metadata": {
    "colab": {
     "base_uri": "https://localhost:8080/"
    },
    "executionInfo": {
     "elapsed": 1510,
     "status": "ok",
     "timestamp": 1612224864718,
     "user": {
      "displayName": "José Ignacio Treviño Zapata",
      "photoUrl": "https://lh3.googleusercontent.com/a-/AOh14GjiBemWraFsVYffB0dNbNoaUfXTy7yTfNPygf-E1Q=s64",
      "userId": "17919451176962634983"
     },
     "user_tz": 360
    },
    "id": "wxDgjhx-YfqB",
    "outputId": "a12fbacf-2458-40e6-9090-e2dadf4789f3"
   },
   "outputs": [
    {
     "name": "stdout",
     "output_type": "stream",
     "text": [
      "PROJECT_PATH:  /content/drive/drive/MyDrive/Colab Notebooks/Tec/git\n"
     ]
    }
   ],
   "source": [
    "# Clone github repository setup\n",
    "# import join used to join ROOT path and MY_GOOGLE_DRIVE_PATH\n",
    "from os.path import join  \n",
    "\n",
    "# path to your project on Google Drive\n",
    "MY_GOOGLE_DRIVE_PATH = 'drive/MyDrive/Colab Notebooks/Tec/git' \n",
    "\n",
    "# Replace with your github repository in this case we want \n",
    "# to clone deep-learning-v2-pytorch repository\n",
    "GIT_REPOSITORY = \"tec_herramientas_comp_analitica\" \n",
    "\n",
    "PROJECT_PATH = join(ROOT, MY_GOOGLE_DRIVE_PATH)\n",
    "\n",
    "# It's good to print out the value if you are not sure \n",
    "print(\"PROJECT_PATH: \", PROJECT_PATH)"
   ]
  },
  {
   "cell_type": "code",
   "execution_count": null,
   "metadata": {
    "colab": {
     "base_uri": "https://localhost:8080/"
    },
    "executionInfo": {
     "elapsed": 3352,
     "status": "ok",
     "timestamp": 1612224959803,
     "user": {
      "displayName": "José Ignacio Treviño Zapata",
      "photoUrl": "https://lh3.googleusercontent.com/a-/AOh14GjiBemWraFsVYffB0dNbNoaUfXTy7yTfNPygf-E1Q=s64",
      "userId": "17919451176962634983"
     },
     "user_tz": 360
    },
    "id": "86CX8KzdFktO",
    "outputId": "f32f5463-abbc-4ba3-c398-f5c2ed98bd57"
   },
   "outputs": [
    {
     "name": "stdout",
     "output_type": "stream",
     "text": [
      "/content/drive/My Drive/Colab Notebooks/Tec/git\n"
     ]
    }
   ],
   "source": [
    "%cd 'git'"
   ]
  },
  {
   "cell_type": "code",
   "execution_count": null,
   "metadata": {
    "colab": {
     "base_uri": "https://localhost:8080/",
     "height": 35
    },
    "executionInfo": {
     "elapsed": 571,
     "status": "ok",
     "timestamp": 1612224965283,
     "user": {
      "displayName": "José Ignacio Treviño Zapata",
      "photoUrl": "https://lh3.googleusercontent.com/a-/AOh14GjiBemWraFsVYffB0dNbNoaUfXTy7yTfNPygf-E1Q=s64",
      "userId": "17919451176962634983"
     },
     "user_tz": 360
    },
    "id": "st4OcXz7GI1h",
    "outputId": "2ce4a84a-4553-4d8a-adfb-32a2e3d52ffc"
   },
   "outputs": [
    {
     "data": {
      "application/vnd.google.colaboratory.intrinsic+json": {
       "type": "string"
      },
      "text/plain": [
       "'/content/drive/My Drive/Colab Notebooks/Tec/git'"
      ]
     },
     "execution_count": 17,
     "metadata": {
      "tags": []
     },
     "output_type": "execute_result"
    }
   ],
   "source": [
    "%pwd"
   ]
  },
  {
   "cell_type": "code",
   "execution_count": null,
   "metadata": {
    "colab": {
     "base_uri": "https://localhost:8080/"
    },
    "executionInfo": {
     "elapsed": 3945,
     "status": "ok",
     "timestamp": 1612225031104,
     "user": {
      "displayName": "José Ignacio Treviño Zapata",
      "photoUrl": "https://lh3.googleusercontent.com/a-/AOh14GjiBemWraFsVYffB0dNbNoaUfXTy7yTfNPygf-E1Q=s64",
      "userId": "17919451176962634983"
     },
     "user_tz": 360
    },
    "id": "g330lDkLEbrx",
    "outputId": "c83ce97d-bccc-4434-ed66-a6029a260b2a"
   },
   "outputs": [
    {
     "name": "stdout",
     "output_type": "stream",
     "text": [
      "GIT_PATH:  https://a8479b4619f65e6643c4a4ff39353bea619908e2@github.com/joseigtrz/tec_herramientas_comp_analitica.git\n"
     ]
    }
   ],
   "source": [
    "#GIT_PATH = \"https://{GIT_TOKEN}@github.com/{GIT_USERNAME}/{GIT_REPOSITORY}.git\" this return 400 Bad Request for me\n",
    "GIT_PATH = \"https://\" + GIT_TOKEN + \"@github.com/\" + GIT_USERNAME + \"/\" + GIT_REPOSITORY + \".git\"\n",
    "print(\"GIT_PATH: \", GIT_PATH)"
   ]
  },
  {
   "cell_type": "code",
   "execution_count": null,
   "metadata": {
    "colab": {
     "base_uri": "https://localhost:8080/"
    },
    "executionInfo": {
     "elapsed": 3926,
     "status": "ok",
     "timestamp": 1612225051163,
     "user": {
      "displayName": "José Ignacio Treviño Zapata",
      "photoUrl": "https://lh3.googleusercontent.com/a-/AOh14GjiBemWraFsVYffB0dNbNoaUfXTy7yTfNPygf-E1Q=s64",
      "userId": "17919451176962634983"
     },
     "user_tz": 360
    },
    "id": "h0EUhWsAYyrJ",
    "outputId": "d759d25a-349e-48a0-e5f2-d8ec0c05cc37"
   },
   "outputs": [
    {
     "name": "stdout",
     "output_type": "stream",
     "text": [
      "Cloning into 'tec_herramientas_comp_analitica'...\n",
      "warning: You appear to have cloned an empty repository.\n"
     ]
    }
   ],
   "source": [
    "!git clone \"{GIT_PATH}\" # clone the github repository"
   ]
  },
  {
   "cell_type": "code",
   "execution_count": null,
   "metadata": {
    "colab": {
     "base_uri": "https://localhost:8080/"
    },
    "executionInfo": {
     "elapsed": 2702,
     "status": "ok",
     "timestamp": 1612226114946,
     "user": {
      "displayName": "José Ignacio Treviño Zapata",
      "photoUrl": "https://lh3.googleusercontent.com/a-/AOh14GjiBemWraFsVYffB0dNbNoaUfXTy7yTfNPygf-E1Q=s64",
      "userId": "17919451176962634983"
     },
     "user_tz": 360
    },
    "id": "Ux1AHqwlY1JC",
    "outputId": "7565951c-0034-4c9a-ae54-2f33a325d7a4"
   },
   "outputs": [
    {
     "name": "stdout",
     "output_type": "stream",
     "text": [
      "/content/drive/My Drive/Colab Notebooks/Tec/git/tec_herramientas_comp_analitica\n"
     ]
    }
   ],
   "source": [
    "# Crear el readme inside the project folder\n",
    "%cd 'tec_herramientas_comp_analitica'"
   ]
  },
  {
   "cell_type": "code",
   "execution_count": null,
   "metadata": {
    "id": "4bGLJuj-Y1b8"
   },
   "outputs": [],
   "source": [
    "# Crear un archivo nuevo\n",
    "!touch README.md"
   ]
  },
  {
   "cell_type": "code",
   "execution_count": null,
   "metadata": {},
   "outputs": [],
   "source": [
    "# Agregar el archivo al índice de GIT\n",
    "!git add README.md"
   ]
  },
  {
   "cell_type": "code",
   "execution_count": null,
   "metadata": {},
   "outputs": [],
   "source": [
    "# Describir el cambio en el commit\n",
    "!git commit -m \"Agregar el README.md\""
   ]
  },
  {
   "cell_type": "code",
   "execution_count": null,
   "metadata": {},
   "outputs": [],
   "source": [
    "# Mandar los cambios al repositorio en línea\n",
    "git push -origin "
   ]
  },
  {
   "cell_type": "code",
   "execution_count": null,
   "metadata": {},
   "outputs": [],
   "source": []
  },
  {
   "cell_type": "code",
   "execution_count": null,
   "metadata": {
    "id": "bbWkJ5UcY1jm"
   },
   "outputs": [],
   "source": [
    "https://towardsdatascience.com/google-drive-google-colab-github-dont-just-read-do-it-5554d5824228"
   ]
  },
  {
   "cell_type": "code",
   "execution_count": null,
   "metadata": {
    "id": "qpb3ibL0Y1pp"
   },
   "outputs": [],
   "source": []
  },
  {
   "cell_type": "code",
   "execution_count": null,
   "metadata": {
    "id": "dW0pZLVgY1yA"
   },
   "outputs": [],
   "source": []
  }
 ],
 "metadata": {
  "colab": {
   "authorship_tag": "ABX9TyN5Gpli6zWakQCSD+tC3MsK",
   "name": "Básicos de Unix y GIT.ipynb",
   "provenance": []
  },
  "kernelspec": {
   "display_name": "Python 3",
   "language": "python",
   "name": "python3"
  },
  "language_info": {
   "codemirror_mode": {
    "name": "ipython",
    "version": 3
   },
   "file_extension": ".py",
   "mimetype": "text/x-python",
   "name": "python",
   "nbconvert_exporter": "python",
   "pygments_lexer": "ipython3",
   "version": "3.8.5"
  }
 },
 "nbformat": 4,
 "nbformat_minor": 1
}
